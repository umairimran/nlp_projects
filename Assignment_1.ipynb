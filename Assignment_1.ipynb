{
  "cells": [
    {
      "cell_type": "code",
      "execution_count": 1,
      "metadata": {
        "id": "EFuBwN7mB67E"
      },
      "outputs": [
        {
          "ename": "ModuleNotFoundError",
          "evalue": "No module named 'nltk'",
          "output_type": "error",
          "traceback": [
            "\u001b[1;31m---------------------------------------------------------------------------\u001b[0m",
            "\u001b[1;31mModuleNotFoundError\u001b[0m                       Traceback (most recent call last)",
            "Cell \u001b[1;32mIn[1], line 2\u001b[0m\n\u001b[0;32m      1\u001b[0m \u001b[38;5;66;03m#import required libraries\u001b[39;00m\n\u001b[1;32m----> 2\u001b[0m \u001b[38;5;28;01mimport\u001b[39;00m\u001b[38;5;250m \u001b[39m\u001b[38;5;21;01mnltk\u001b[39;00m\n\u001b[0;32m      3\u001b[0m \u001b[38;5;28;01mimport\u001b[39;00m\u001b[38;5;250m \u001b[39m\u001b[38;5;21;01mpandas\u001b[39;00m\u001b[38;5;250m \u001b[39m\u001b[38;5;28;01mas\u001b[39;00m\u001b[38;5;250m \u001b[39m\u001b[38;5;21;01mpd\u001b[39;00m\n\u001b[0;32m      4\u001b[0m \u001b[38;5;28;01mimport\u001b[39;00m\u001b[38;5;250m \u001b[39m\u001b[38;5;21;01mnumpy\u001b[39;00m\u001b[38;5;250m \u001b[39m\u001b[38;5;28;01mas\u001b[39;00m\u001b[38;5;250m \u001b[39m\u001b[38;5;21;01mnp\u001b[39;00m\n",
            "\u001b[1;31mModuleNotFoundError\u001b[0m: No module named 'nltk'"
          ]
        }
      ],
      "source": [
        "#import required libraries\n",
        "import nltk\n",
        "import pandas as pd\n",
        "import numpy as np\n",
        "import re\n",
        "from nltk.stem import PorterStemmer\n",
        "from nltk.tokenize import word_tokenize\n",
        "from nltk.corpus import stopwords"
      ]
    },
    {
      "cell_type": "code",
      "execution_count": null,
      "metadata": {},
      "outputs": [],
      "source": []
    },
    {
      "cell_type": "code",
      "execution_count": null,
      "metadata": {
        "id": "_Kgk_-acB0L9"
      },
      "outputs": [],
      "source": [
        "# Download NLTK resources\n",
        "nltk.download('punkt')\n",
        "nltk.download('stopwords')\n",
        "nltk.download('wordnet')\n",
        "nltk.download('wordnet') \n",
        "nltk.download('omw-1.4')  \n",
        "nltk.download('punkt')   \n"
      ]
    },
    {
      "cell_type": "code",
      "execution_count": null,
      "metadata": {
        "id": "CyNFcE7LB9fr"
      },
      "outputs": [],
      "source": [
        "# Load dataset\n",
        "df=pd.read_csv('HealthCareMagic-100k.csv')\n",
        "df.head()"
      ]
    },
    {
      "cell_type": "code",
      "execution_count": null,
      "metadata": {},
      "outputs": [],
      "source": [
        "df['output'][0]"
      ]
    },
    {
      "cell_type": "markdown",
      "metadata": {
        "id": "_17pvjRMCQqh"
      },
      "source": [
        "## **Task 1: Data Preprocessing and Exploration**"
      ]
    },
    {
      "cell_type": "code",
      "execution_count": null,
      "metadata": {
        "id": "rxf7Ic-bCE3c"
      },
      "outputs": [],
      "source": [
        "# Tokenization, lowercasing, stopword removal, and lemmatization\n",
        "stemmer = PorterStemmer()\n",
        "def preprocess_text(text):\n",
        "    text=text.lower()\n",
        "    text=re.sub(r'[^\\w\\s]','',text)\n",
        "    words_stop=set(stopwords.words('english'))\n",
        "    tokens=nltk.word_tokenize(text)\n",
        "    removed_stop_words=[]\n",
        "    for singleword in tokens:\n",
        "        if singleword not in words_stop:\n",
        "            removed_stop_words.append(singleword)\n",
        "    stemmed_words = [stemmer.stem(word) for word in removed_stop_words]\n",
        "    return stemmed_words\n",
        "\n",
        "print(preprocess_text(df['output'][0]))\n"
      ]
    },
    {
      "cell_type": "code",
      "execution_count": null,
      "metadata": {
        "id": "tpoFkquWCFmQ"
      },
      "outputs": [],
      "source": [
        "# Visualize unigrams, bigrams, and trigrams\n",
        "def create_n_grams(df,n):\n",
        "    n_grams={}\n",
        "    for i in range(len(df)):\n",
        "        words=preprocess_text(df['output'][i])\n",
        "        for j in range(len(words)-n+1):\n",
        "            n_gram=tuple(words[j:j+n])\n",
        "            if n_gram in n_grams:\n",
        "                n_grams[n_gram]+=1\n",
        "            else:\n",
        "                n_grams[n_gram]=1\n",
        "    print(n_grams)\n",
        "    \n",
        "def plot_frequent_ngrams():\n",
        "  # write youe code here\n",
        "  pass\n",
        "\n",
        "unigram=create_n_grams(df,1)\n",
        "bigram=create_n_grams(df,2)\n",
        "trigram=create_n_grams(df,3)"
      ]
    },
    {
      "cell_type": "code",
      "execution_count": null,
      "metadata": {},
      "outputs": [],
      "source": []
    },
    {
      "cell_type": "code",
      "execution_count": null,
      "metadata": {
        "id": "fh-hn3NbCrdh"
      },
      "outputs": [],
      "source": [
        "# Word Cloud\n",
        "print(\"hellodadsff\")"
      ]
    },
    {
      "cell_type": "markdown",
      "metadata": {
        "id": "Bs1WM19zCvIN"
      },
      "source": [
        "## **Task 2: TF-IDF Based Similarity**"
      ]
    },
    {
      "cell_type": "code",
      "execution_count": null,
      "metadata": {
        "id": "QpGGz56GCyVQ"
      },
      "outputs": [],
      "source": [
        "vectorizer = TfidfVectorizer()\n",
        "tfidf_matrix = vectorizer.fit_transform(data['processed']) #replace the data with your processed data"
      ]
    },
    {
      "cell_type": "code",
      "execution_count": null,
      "metadata": {
        "id": "jQK4uej8C8zy"
      },
      "outputs": [],
      "source": [
        "def recommend_tfidf():\n",
        "  # write your code here"
      ]
    },
    {
      "cell_type": "code",
      "execution_count": null,
      "metadata": {
        "id": "Kew32k7GDGvT"
      },
      "outputs": [],
      "source": [
        "# Example Query\n",
        "\n",
        "query = \"A movie with excellent acting and great storyline\"\n",
        "print(\"TF-IDF Recommendations:\")\n",
        "print(recommend_tfidf(query, tfidf_matrix))"
      ]
    },
    {
      "cell_type": "markdown",
      "metadata": {
        "id": "8mtYW9-ODOii"
      },
      "source": [
        "## **Task 3: Word Embeddings Based Similarity**"
      ]
    },
    {
      "cell_type": "code",
      "execution_count": null,
      "metadata": {
        "id": "BklwbTUTDUUz"
      },
      "outputs": [],
      "source": [
        "#implemnt CBoW and skipgram"
      ]
    },
    {
      "cell_type": "code",
      "execution_count": null,
      "metadata": {
        "id": "oGgJsN9PDaMS"
      },
      "outputs": [],
      "source": [
        "def recommend_word2vec():\n",
        "  #write your code here"
      ]
    },
    {
      "cell_type": "code",
      "execution_count": null,
      "metadata": {
        "id": "DtaZm9ZjD7G5"
      },
      "outputs": [],
      "source": [
        "# Example Query\n",
        "\n",
        "query = \"A movie with excellent acting and great storyline\"\n",
        "print(\"Word2vec Recommendations\")\n"
      ]
    }
  ],
  "metadata": {
    "colab": {
      "provenance": []
    },
    "kernelspec": {
      "display_name": "env",
      "language": "python",
      "name": "python3"
    },
    "language_info": {
      "codemirror_mode": {
        "name": "ipython",
        "version": 3
      },
      "file_extension": ".py",
      "mimetype": "text/x-python",
      "name": "python",
      "nbconvert_exporter": "python",
      "pygments_lexer": "ipython3",
      "version": "3.12.8"
    }
  },
  "nbformat": 4,
  "nbformat_minor": 0
}
